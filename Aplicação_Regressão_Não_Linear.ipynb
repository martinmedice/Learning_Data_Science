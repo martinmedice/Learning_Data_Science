{
  "nbformat": 4,
  "nbformat_minor": 0,
  "metadata": {
    "colab": {
      "provenance": [],
      "collapsed_sections": [],
      "include_colab_link": true
    },
    "kernelspec": {
      "name": "python3",
      "display_name": "Python 3"
    },
    "language_info": {
      "name": "python"
    }
  },
  "cells": [
    {
      "cell_type": "markdown",
      "metadata": {
        "id": "view-in-github",
        "colab_type": "text"
      },
      "source": [
        "<a href=\"https://colab.research.google.com/github/martinmedice/ProjetoGit/blob/main/Aplica%C3%A7%C3%A3o_Regress%C3%A3o_N%C3%A3o_Linear.ipynb\" target=\"_parent\"><img src=\"https://colab.research.google.com/assets/colab-badge.svg\" alt=\"Open In Colab\"/></a>"
      ]
    },
    {
      "cell_type": "markdown",
      "metadata": {
        "id": "A5WuZJ85Lt0k"
      },
      "source": [
        "#Regressão Não-Linear\n",
        "\n",
        "O RH da sua empresa soube que você está estudando ciência de dados e tem alguns dados de anos de experiência e salário na empresa. Eles precisam que você crie um modelo matemático pra facilitar o trabalho deles para na que hora da admissão, eles tenham uma estimativa justa de salário para o contratado conforme a experiência dele.\n",
        "\n",
        "Aqui você vai precisar escolher qual é o melhor polinômio para ajustar os dados sem ter o perigo que criar um modelo muito complexo. Você deve:\n",
        "- plotar os dados\n",
        "- fazer a regressão com polinomios de até **4º grau** com split 70/30 de dados\n",
        "- Comparar resíduos, R² e RMSE.\n",
        "\n",
        "Qual o melhor modelo que você pode fornecer?"
      ]
    },
    {
      "cell_type": "code",
      "metadata": {
        "id": "XM45UcaML-Av"
      },
      "source": [
        "# aqui vai as bibliotecas que você vai usar\n",
        "from yellowbrick.regressor import ResidualsPlot\n",
        "import numpy as np\n",
        "import pandas as pd\n",
        "import matplotlib.pyplot as plt\n",
        "import seaborn as sns\n",
        "import scipy as sp\n",
        "import statsmodels.api as sm\n",
        "from sklearn.preprocessing import PolynomialFeatures\n",
        "from sklearn.linear_model import LinearRegression\n",
        "from sklearn.metrics import mean_squared_error, r2_score\n",
        "from sklearn.model_selection import train_test_split"
      ],
      "execution_count": 1,
      "outputs": []
    },
    {
      "cell_type": "markdown",
      "metadata": {
        "id": "G-n8SBSwML5A"
      },
      "source": [
        "## 1) Importação dos dados\n",
        "\n",
        "O dataset já está aqui carregado e você só vai precisar usar as variáveis X (_Anos de experiência_) e y (_Salário_)."
      ]
    },
    {
      "cell_type": "code",
      "metadata": {
        "id": "XBOitxJ27JmD"
      },
      "source": [
        "url = \"https://s3.us-west-2.amazonaws.com/public.gamelab.fun/dataset/position_salaries.csv\"\n",
        "df = pd.read_csv(url)\n",
        "X=df['Level'].values.reshape(-1,1) #anos de experiencia\n",
        "y=df['Salary'].values.reshape(-1,1) #salário"
      ],
      "execution_count": null,
      "outputs": []
    },
    {
      "cell_type": "markdown",
      "metadata": {
        "id": "Jm72SHBuNGzA"
      },
      "source": [
        "## 2) Análise gráfica\n",
        "\n",
        "Aqui você pode plotar anos de experiência por salário em um gráfico de pontos.\n"
      ]
    },
    {
      "cell_type": "markdown",
      "metadata": {
        "id": "WmXOwOits2FL"
      },
      "source": [
        "## 3) Treinamento dos modelos"
      ]
    },
    {
      "cell_type": "markdown",
      "metadata": {
        "id": "amSmQK2INNuq"
      },
      "source": [
        "### 3.1) Regressão linear"
      ]
    },
    {
      "cell_type": "markdown",
      "metadata": {
        "id": "y1gT9nIcult7"
      },
      "source": [
        "#### 3.1.1) Treinamento do modelo"
      ]
    },
    {
      "cell_type": "markdown",
      "metadata": {
        "id": "ufUfYzKaIkgK"
      },
      "source": [
        "#### 3.1.2) Métricas"
      ]
    },
    {
      "cell_type": "markdown",
      "metadata": {
        "id": "hho0o7cZIr6Y"
      },
      "source": [
        "#### 3.1.3) Gráfico dos resíduos - Regressão linear\n"
      ]
    },
    {
      "cell_type": "markdown",
      "metadata": {
        "id": "YJGGLgl6I9_b"
      },
      "source": [
        "#### 3.1.4) Plot da comparação entre dados e predição"
      ]
    },
    {
      "cell_type": "markdown",
      "metadata": {
        "id": "q7rQvsKcJDhC"
      },
      "source": [
        "### 3.2) Regressão quadrática"
      ]
    },
    {
      "cell_type": "markdown",
      "metadata": {
        "id": "m9u9GueZuYiB"
      },
      "source": [
        "#### 3.2.1) Treinamento do modelo"
      ]
    },
    {
      "cell_type": "markdown",
      "metadata": {
        "id": "Fg8qWj_MJLSk"
      },
      "source": [
        "#### 3.2.2) Métricas"
      ]
    },
    {
      "cell_type": "markdown",
      "metadata": {
        "id": "S2439Ly5JNGW"
      },
      "source": [
        "#### 3.2.3) Gráficos dos resíduos"
      ]
    },
    {
      "cell_type": "markdown",
      "metadata": {
        "id": "o1o5UeBsJQg2"
      },
      "source": [
        "#### 3.2.4) Plot da comparação entre dados e predição "
      ]
    },
    {
      "cell_type": "markdown",
      "metadata": {
        "id": "choTeLW-JZo5"
      },
      "source": [
        "### 3.3) Regressão cúbica"
      ]
    },
    {
      "cell_type": "markdown",
      "metadata": {
        "id": "kU8LNg0et30z"
      },
      "source": [
        "#### 3.3.1) Treinamento do modelo"
      ]
    },
    {
      "cell_type": "markdown",
      "metadata": {
        "id": "D4yrIoKHJgFh"
      },
      "source": [
        "#### 3.3.2) Métricas"
      ]
    },
    {
      "cell_type": "markdown",
      "metadata": {
        "id": "skzQgttJJiRJ"
      },
      "source": [
        "#### 3.3.3) Gráfico dos resíduos"
      ]
    },
    {
      "cell_type": "markdown",
      "metadata": {
        "id": "-5l9rrLPJmbO"
      },
      "source": [
        "#### 3.3.4) Plot de comparação entre dados e predição"
      ]
    },
    {
      "cell_type": "markdown",
      "metadata": {
        "id": "9kuebOGQKLPo"
      },
      "source": [
        "### 3.4) Regressão Quártica"
      ]
    },
    {
      "cell_type": "markdown",
      "metadata": {
        "id": "vswOm-deuKuA"
      },
      "source": [
        "#### 3.4.1) Treinamento do modelo"
      ]
    },
    {
      "cell_type": "markdown",
      "metadata": {
        "id": "vhVCs1iwKOPO"
      },
      "source": [
        "#### 3.4.2) Métricas"
      ]
    },
    {
      "cell_type": "markdown",
      "metadata": {
        "id": "UGK-s7xiKQxE"
      },
      "source": [
        "#### 3.4.3) Gráfico dos resíduos"
      ]
    },
    {
      "cell_type": "markdown",
      "metadata": {
        "id": "o6VgBVajKWCg"
      },
      "source": [
        "#### 3.4.4) Plot da comparação entre dados e predição"
      ]
    },
    {
      "cell_type": "markdown",
      "metadata": {
        "id": "sR5r_SrWK_W0"
      },
      "source": [
        "## 4) Conclusão"
      ]
    }
  ]
}