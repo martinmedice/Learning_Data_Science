{
  "nbformat": 4,
  "nbformat_minor": 0,
  "metadata": {
    "colab": {
      "provenance": [],
      "collapsed_sections": [],
      "include_colab_link": true
    },
    "kernelspec": {
      "name": "python3",
      "display_name": "Python 3"
    },
    "language_info": {
      "name": "python"
    }
  },
  "cells": [
    {
      "cell_type": "markdown",
      "metadata": {
        "id": "view-in-github",
        "colab_type": "text"
      },
      "source": [
        "<a href=\"https://colab.research.google.com/github/martinmedice/ProjetoGit/blob/main/Aplica%C3%A7%C3%A3o_Regress%C3%A3o_N%C3%A3o_Linear.ipynb\" target=\"_parent\"><img src=\"https://colab.research.google.com/assets/colab-badge.svg\" alt=\"Open In Colab\"/></a>"
      ]
    },
    {
      "cell_type": "markdown",
      "metadata": {
        "id": "A5WuZJ85Lt0k"
      },
      "source": [
        "#Regressão Não-Linear\n",
        "\n",
        "O RH da sua empresa soube que você está estudando ciência de dados e tem alguns dados de anos de experiência e salário na empresa. Eles precisam que você crie um modelo matemático pra facilitar o trabalho deles para na que hora da admissão, eles tenham uma estimativa justa de salário para o contratado conforme a experiência dele.\n",
        "\n",
        "Aqui você vai precisar escolher qual é o melhor polinômio para ajustar os dados sem ter o perigo que criar um modelo muito complexo. Você deve:\n",
        "- plotar os dados\n",
        "- fazer a regressão com polinomios de até **4º grau** com split 70/30 de dados\n",
        "- Comparar resíduos, R² e RMSE.\n",
        "\n",
        "Qual o melhor modelo que você pode fornecer?"
      ]
    },
    {
      "cell_type": "code",
      "metadata": {
        "id": "XM45UcaML-Av"
      },
      "source": [
        "# aqui vai as bibliotecas que você vai usar\n",
        "from yellowbrick.regressor import ResidualsPlot\n",
        "import numpy as np\n",
        "import pandas as pd\n",
        "import matplotlib.pyplot as plt\n",
        "import seaborn as sns\n",
        "import scipy as sp\n",
        "import statsmodels.api as sm\n",
        "from sklearn.preprocessing import PolynomialFeatures\n",
        "from sklearn.linear_model import LinearRegression\n",
        "from sklearn.metrics import mean_squared_error, r2_score\n",
        "from sklearn.model_selection import train_test_split"
      ],
      "execution_count": 1,
      "outputs": []
    },
    {
      "cell_type": "markdown",
      "metadata": {
        "id": "G-n8SBSwML5A"
      },
      "source": [
        "## 1) Importação dos dados\n",
        "\n",
        "O dataset já está aqui carregado e você só vai precisar usar as variáveis X (_Anos de experiência_) e y (_Salário_)."
      ]
    },
    {
      "cell_type": "code",
      "metadata": {
        "id": "XBOitxJ27JmD"
      },
      "source": [
        "url = \"https://s3.us-west-2.amazonaws.com/public.gamelab.fun/dataset/position_salaries.csv\"\n",
        "df = pd.read_csv(url)\n",
        "X=df['Level'].values.reshape(-1,1) #anos de experiencia\n",
        "y=df['Salary'].values.reshape(-1,1) #salário"
      ],
      "execution_count": 2,
      "outputs": []
    },
    {
      "cell_type": "markdown",
      "metadata": {
        "id": "Jm72SHBuNGzA"
      },
      "source": [
        "## 2) Análise gráfica\n",
        "\n",
        "Aqui você pode plotar anos de experiência por salário em um gráfico de pontos.\n"
      ]
    },
    {
      "cell_type": "code",
      "source": [
        "plt.figure(figsize=[10,5])\n",
        "\n",
        "sns.scatterplot(data=df, x=df['Level'], y=df['Salary'])\n",
        "plt.title('Salário por nível de experiência')\n",
        "\n",
        "plt.show()"
      ],
      "metadata": {
        "colab": {
          "base_uri": "https://localhost:8080/",
          "height": 349
        },
        "id": "UpaPG_liz8US",
        "outputId": "4129944f-1d30-456b-83ca-9f4cd88b9eaf"
      },
      "execution_count": 8,
      "outputs": [
        {
          "output_type": "display_data",
          "data": {
            "text/plain": [
              "<Figure size 720x360 with 1 Axes>"
            ],
            "image/png": "[encoded data removed]"
          },
          "metadata": {}
        }
      ]
    },
    {
      "cell_type": "markdown",
      "metadata": {
        "id": "WmXOwOits2FL"
      },
      "source": [
        "## 3) Treinamento dos modelos"
      ]
    },
    {
      "cell_type": "markdown",
      "metadata": {
        "id": "amSmQK2INNuq"
      },
      "source": [
        "### 3.1) Regressão linear"
      ]
    },
    {
      "cell_type": "code",
      "source": [
        "X_train, X_test, y_train, y_test = train_test_split(X,y,test_size=0.3,random_state=0)"
      ],
      "metadata": {
        "id": "RbzmpgSh0784"
      },
      "execution_count": 9,
      "outputs": []
    },
    {
      "cell_type": "markdown",
      "metadata": {
        "id": "y1gT9nIcult7"
      },
      "source": [
        "#### 3.1.1) Treinamento do modelo"
      ]
    },
    {
      "cell_type": "code",
      "source": [
        "reg_lin= LinearRegression().fit(X_train, y_train)\n",
        "ypred_teste= reg_lin.predict(X_test)\n",
        "ypred_treino= reg_lin.predict(X_train)"
      ],
      "metadata": {
        "id": "anp5XGQ61Y5L"
      },
      "execution_count": 13,
      "outputs": []
    },
    {
      "cell_type": "markdown",
      "metadata": {
        "id": "ufUfYzKaIkgK"
      },
      "source": [
        "#### 3.1.2) Métricas"
      ]
    },
    {
      "cell_type": "code",
      "source": [
        "print('RMSE treino: %.2f'% mean_squared_error(y_train, ypred_treino))\n",
        "print('RMSE teste: %.2f'% mean_squared_error(y_test, ypred_teste))\n",
        "print('R2 treino: %.2f'% r2_score(y_train, ypred_treino))\n",
        "print('R2 teste: %.2f'% r2_score(y_test, ypred_teste))"
      ],
      "metadata": {
        "colab": {
          "base_uri": "https://localhost:8080/"
        },
        "id": "gxOc8ktn2BVm",
        "outputId": "2c12b075-5454-4a00-c8e0-a8c1c7e57332"
      },
      "execution_count": 14,
      "outputs": [
        {
          "output_type": "stream",
          "name": "stdout",
          "text": [
            "RMSE treino: 36247189301.73\n",
            "RMSE teste: 5459476822.71\n",
            "R2 treino: 0.63\n",
            "R2 teste: 0.86\n"
          ]
        }
      ]
    },
    {
      "cell_type": "markdown",
      "metadata": {
        "id": "hho0o7cZIr6Y"
      },
      "source": [
        "#### 3.1.3) Gráfico dos resíduos - Regressão linear\n"
      ]
    },
    {
      "cell_type": "code",
      "source": [
        "residuos = ResidualsPlot(reg_lin)\n",
        "\n",
        "residuos.fit(X_train, y_train)\n",
        "residuos.score(X_test, y_test)"
      ],
      "metadata": {
        "colab": {
          "base_uri": "https://localhost:8080/",
          "height": 364
        },
        "id": "ASUVPISR3Zbg",
        "outputId": "e60a16d6-7fc2-46fc-b958-6f16f67a4664"
      },
      "execution_count": 16,
      "outputs": [
        {
          "output_type": "execute_result",
          "data": {
            "text/plain": [
              "0.8588877328994488"
            ]
          },
          "metadata": {},
          "execution_count": 16
        },
        {
          "output_type": "display_data",
          "data": {
            "text/plain": [
              "<Figure size 576x396 with 2 Axes>"
            ],
            "image/png": "[encoded data removed]"
          },
          "metadata": {}
        }
      ]
    },
    {
      "cell_type": "markdown",
      "metadata": {
        "id": "YJGGLgl6I9_b"
      },
      "source": [
        "#### 3.1.4) Plot da comparação entre dados e predição"
      ]
    },
    {
      "cell_type": "code",
      "source": [
        "plt.plot(X, y, 'ro', X,reg_lin.predict(X), 'b--')"
      ],
      "metadata": {
        "colab": {
          "base_uri": "https://localhost:8080/",
          "height": 393
        },
        "id": "kpROS2-U4KjM",
        "outputId": "bcca9d8d-1462-4ebb-cbe4-153a0dac794f"
      },
      "execution_count": 25,
      "outputs": [
        {
          "output_type": "execute_result",
          "data": {
            "text/plain": [
              "[<matplotlib.lines.Line2D at 0x7f372abfc110>,\n",
              " <matplotlib.lines.Line2D at 0x7f372abc0590>]"
            ]
          },
          "metadata": {},
          "execution_count": 25
        },
        {
          "output_type": "display_data",
          "data": {
            "text/plain": [
              "<Figure size 576x396 with 1 Axes>"
            ],
            "image/png": "[encoded data removed]"
          },
          "metadata": {}
        }
      ]
    },
    {
      "cell_type": "markdown",
      "metadata": {
        "id": "q7rQvsKcJDhC"
      },
      "source": [
        "### 3.2) Regressão quadrática"
      ]
    },
    {
      "cell_type": "markdown",
      "metadata": {
        "id": "m9u9GueZuYiB"
      },
      "source": [
        "#### 3.2.1) Treinamento do modelo"
      ]
    },
    {
      "cell_type": "code",
      "source": [
        "poly = PolynomialFeatures(degree=2)\n",
        "X_poly = poly.fit_transform(X)\n",
        "\n",
        "X_train, X_test, y_train, y_test = train_test_split(X_poly, y, test_size=0.3, random_state=2)\n",
        "\n",
        "reg_quad= LinearRegression().fit(X_train, y_train)\n",
        "ypred_treino2 = reg_quad.predict(X_train)\n",
        "ypred_teste2 = reg_quad.predict(X_test)"
      ],
      "metadata": {
        "id": "tClztIcY7Nly"
      },
      "execution_count": 28,
      "outputs": []
    },
    {
      "cell_type": "markdown",
      "metadata": {
        "id": "Fg8qWj_MJLSk"
      },
      "source": [
        "#### 3.2.2) Métricas"
      ]
    },
    {
      "cell_type": "code",
      "source": [
        "print('RMSE treino: {:.3}'.format(mean_squared_error(y_train, ypred_treino2)))\n",
        "print('RMSE teste: {:.3}'.format(mean_squared_error(y_test, ypred_teste2)))\n",
        "print('R2 treino: {:.2}'.format(r2_score(y_train, ypred_treino2)))\n",
        "print('R2 teste: {:.2}'.format(r2_score(y_test, ypred_teste2)))"
      ],
      "metadata": {
        "id": "TnsAdnxD7vxZ",
        "outputId": "d368210b-8e86-466c-c4ee-282e4a8121ae",
        "colab": {
          "base_uri": "https://localhost:8080/"
        }
      },
      "execution_count": 63,
      "outputs": [
        {
          "output_type": "stream",
          "name": "stdout",
          "text": [
            "RMSE treino: 8.85e+09\n",
            "RMSE teste: 3.26e+09\n",
            "R2 treino: 0.91\n",
            "R2 teste: -0.93\n"
          ]
        }
      ]
    },
    {
      "cell_type": "markdown",
      "metadata": {
        "id": "S2439Ly5JNGW"
      },
      "source": [
        "#### 3.2.3) Gráficos dos resíduos"
      ]
    },
    {
      "cell_type": "code",
      "source": [
        "visualizer = ResidualsPlot(LinearRegression())\n",
        "\n",
        "visualizer.fit(X_train, y_train)  # Fit the training data to the visualizer\n",
        "visualizer.score(X_test, y_test)  # Evaluate the model on the test data"
      ],
      "metadata": {
        "id": "9vXPKbBh-2bA",
        "outputId": "c1204dd2-f63c-46d9-98cd-ce7ae32fd9db",
        "colab": {
          "base_uri": "https://localhost:8080/",
          "height": 364
        }
      },
      "execution_count": 59,
      "outputs": [
        {
          "output_type": "execute_result",
          "data": {
            "text/plain": [
              "-0.9278033765499452"
            ]
          },
          "metadata": {},
          "execution_count": 59
        },
        {
          "output_type": "display_data",
          "data": {
            "text/plain": [
              "<Figure size 576x396 with 2 Axes>"
            ],
            "image/png": "[encoded data removed]"
          },
          "metadata": {}
        }
      ]
    },
    {
      "cell_type": "markdown",
      "metadata": {
        "id": "o1o5UeBsJQg2"
      },
      "source": [
        "#### 3.2.4) Plot da comparação entre dados e predição "
      ]
    },
    {
      "cell_type": "code",
      "source": [
        "plt.plot(X,y,'ro',X,reg_quad.predict(X_poly),'b-')"
      ],
      "metadata": {
        "id": "lvGPXKhe9sUW",
        "outputId": "dcc96eee-f124-461b-a1ea-689e3a82ac7f",
        "colab": {
          "base_uri": "https://localhost:8080/",
          "height": 393
        }
      },
      "execution_count": 58,
      "outputs": [
        {
          "output_type": "stream",
          "name": "stderr",
          "text": [
            "WARNING:matplotlib.legend:No handles with labels found to put in legend.\n"
          ]
        },
        {
          "output_type": "execute_result",
          "data": {
            "text/plain": [
              "<matplotlib.legend.Legend at 0x7f3728ab6a10>"
            ]
          },
          "metadata": {},
          "execution_count": 58
        },
        {
          "output_type": "display_data",
          "data": {
            "text/plain": [
              "<Figure size 576x396 with 1 Axes>"
            ],
            "image/png": "[encoded data removed]"
          },
          "metadata": {}
        }
      ]
    },
    {
      "cell_type": "markdown",
      "metadata": {
        "id": "choTeLW-JZo5"
      },
      "source": [
        "### 3.3) Regressão cúbica"
      ]
    },
    {
      "cell_type": "markdown",
      "metadata": {
        "id": "kU8LNg0et30z"
      },
      "source": [
        "#### 3.3.1) Treinamento do modelo"
      ]
    },
    {
      "cell_type": "code",
      "source": [
        "poly = PolynomialFeatures(degree=3)\n",
        "X_poly = poly.fit_transform(X)\n",
        "\n",
        "X_train, X_test, y_train, y_test = train_test_split(X_poly, y, test_size=0.3, random_state=2)\n",
        "\n",
        "reg_cub= LinearRegression().fit(X_train, y_train)\n",
        "ypred_treino3 = reg_cub.predict(X_train)\n",
        "ypred_teste3 = reg_cub.predict(X_test)"
      ],
      "metadata": {
        "id": "b28mUSiq_Ely"
      },
      "execution_count": 60,
      "outputs": []
    },
    {
      "cell_type": "markdown",
      "metadata": {
        "id": "D4yrIoKHJgFh"
      },
      "source": [
        "#### 3.3.2) Métricas"
      ]
    },
    {
      "cell_type": "code",
      "source": [
        "print('RMSE treino: {:.3}'.format(mean_squared_error(y_train, ypred_treino3)))\n",
        "print('RMSE teste: {:.3}'.format(mean_squared_error(y_test, ypred_teste3)))\n",
        "print('R2 treino: {:.2}'.format(r2_score(y_train, ypred_treino3)))\n",
        "print('R2 teste: {:.2}'.format(r2_score(y_test, ypred_teste3)))"
      ],
      "metadata": {
        "id": "xihNRLUB_SBZ",
        "outputId": "478a7d32-d562-48e1-abbf-161b3774651f",
        "colab": {
          "base_uri": "https://localhost:8080/"
        }
      },
      "execution_count": 62,
      "outputs": [
        {
          "output_type": "stream",
          "name": "stdout",
          "text": [
            "RMSE treino: 1.35e+09\n",
            "RMSE teste: 3.06e+09\n",
            "R2 treino: 0.99\n",
            "R2 teste: -0.81\n"
          ]
        }
      ]
    },
    {
      "cell_type": "markdown",
      "metadata": {
        "id": "skzQgttJJiRJ"
      },
      "source": [
        "#### 3.3.3) Gráfico dos resíduos"
      ]
    },
    {
      "cell_type": "code",
      "source": [
        "visualizer = ResidualsPlot(LinearRegression())\n",
        "\n",
        "visualizer.fit(X_train, y_train)  # Fit the training data to the visualizer\n",
        "visualizer.score(X_test, y_test)  # Evaluate the model on the test data"
      ],
      "metadata": {
        "id": "VwEI2-1U_fsx",
        "outputId": "e82dcdd9-2648-48d1-fe64-55703e413d3b",
        "colab": {
          "base_uri": "https://localhost:8080/",
          "height": 377
        }
      },
      "execution_count": 64,
      "outputs": [
        {
          "output_type": "execute_result",
          "data": {
            "text/plain": [
              "-0.8135256893946012"
            ]
          },
          "metadata": {},
          "execution_count": 64
        },
        {
          "output_type": "display_data",
          "data": {
            "text/plain": [
              "<Figure size 576x396 with 2 Axes>"
            ],
            "image/png": "[encoded data removed]"
          },
          "metadata": {}
        }
      ]
    },
    {
      "cell_type": "markdown",
      "metadata": {
        "id": "-5l9rrLPJmbO"
      },
      "source": [
        "#### 3.3.4) Plot de comparação entre dados e predição"
      ]
    },
    {
      "cell_type": "code",
      "source": [
        "plt.plot(X,y,'ro',X,reg_cub.predict(X_poly),'b-')"
      ],
      "metadata": {
        "id": "niJ2XD0H_jJy",
        "outputId": "72a0f48f-c0ae-47f1-97f4-321740c98b27",
        "colab": {
          "base_uri": "https://localhost:8080/",
          "height": 393
        }
      },
      "execution_count": 65,
      "outputs": [
        {
          "output_type": "execute_result",
          "data": {
            "text/plain": [
              "[<matplotlib.lines.Line2D at 0x7f372886d5d0>,\n",
              " <matplotlib.lines.Line2D at 0x7f3728824490>]"
            ]
          },
          "metadata": {},
          "execution_count": 65
        },
        {
          "output_type": "display_data",
          "data": {
            "text/plain": [
              "<Figure size 576x396 with 1 Axes>"
            ],
            "image/png": "[encoded data removed]"
          },
          "metadata": {}
        }
      ]
    },
    {
      "cell_type": "markdown",
      "metadata": {
        "id": "9kuebOGQKLPo"
      },
      "source": [
        "### 3.4) Regressão Quártica"
      ]
    },
    {
      "cell_type": "markdown",
      "metadata": {
        "id": "vswOm-deuKuA"
      },
      "source": [
        "#### 3.4.1) Treinamento do modelo"
      ]
    },
    {
      "cell_type": "code",
      "source": [
        "poly = PolynomialFeatures(degree=4)\n",
        "X_poly = poly.fit_transform(X)\n",
        "\n",
        "X_train, X_test, y_train, y_test = train_test_split(X_poly, y, test_size=0.3, random_state=2)\n",
        "\n",
        "reg_qua= LinearRegression().fit(X_train, y_train)\n",
        "ypred_treino4 = reg_qua.predict(X_train)\n",
        "ypred_teste4 = reg_qua.predict(X_test)"
      ],
      "metadata": {
        "id": "5l1CW4u1_pT-"
      },
      "execution_count": 66,
      "outputs": []
    },
    {
      "cell_type": "markdown",
      "metadata": {
        "id": "vhVCs1iwKOPO"
      },
      "source": [
        "#### 3.4.2) Métricas"
      ]
    },
    {
      "cell_type": "code",
      "source": [
        "print('RMSE treino: {:.3}'.format(mean_squared_error(y_train, ypred_treino4)))\n",
        "print('RMSE teste: {:.3}'.format(mean_squared_error(y_test, ypred_teste4)))\n",
        "print('R2 treino: {:.2}'.format(r2_score(y_train, ypred_treino4)))\n",
        "print('R2 teste: {:.2}'.format(r2_score(y_test, ypred_teste4)))"
      ],
      "metadata": {
        "id": "K6ZSPpwx_yBA",
        "outputId": "5c73b0d6-3b35-4308-841c-f06b7bf03ac1",
        "colab": {
          "base_uri": "https://localhost:8080/"
        }
      },
      "execution_count": 67,
      "outputs": [
        {
          "output_type": "stream",
          "name": "stdout",
          "text": [
            "RMSE treino: 1.6e+08\n",
            "RMSE teste: 8.51e+08\n",
            "R2 treino: 1.0\n",
            "R2 teste: 0.5\n"
          ]
        }
      ]
    },
    {
      "cell_type": "markdown",
      "metadata": {
        "id": "UGK-s7xiKQxE"
      },
      "source": [
        "#### 3.4.3) Gráfico dos resíduos"
      ]
    },
    {
      "cell_type": "code",
      "source": [
        "visualizer = ResidualsPlot(LinearRegression())\n",
        "\n",
        "visualizer.fit(X_train, y_train)  # Fit the training data to the visualizer\n",
        "visualizer.score(X_test, y_test)  # Evaluate the model on the test data"
      ],
      "metadata": {
        "id": "DZPWCoIA_6ak",
        "outputId": "ee30d5ee-abc1-499f-a029-c6a7aa824adb",
        "colab": {
          "base_uri": "https://localhost:8080/",
          "height": 377
        }
      },
      "execution_count": 68,
      "outputs": [
        {
          "output_type": "execute_result",
          "data": {
            "text/plain": [
              "0.49609046964926706"
            ]
          },
          "metadata": {},
          "execution_count": 68
        },
        {
          "output_type": "display_data",
          "data": {
            "text/plain": [
              "<Figure size 576x396 with 2 Axes>"
            ],
            "image/png": "[encoded data removed]"
          },
          "metadata": {}
        }
      ]
    },
    {
      "cell_type": "markdown",
      "metadata": {
        "id": "o6VgBVajKWCg"
      },
      "source": [
        "#### 3.4.4) Plot da comparação entre dados e predição"
      ]
    },
    {
      "cell_type": "code",
      "source": [
        "plt.plot(X,y,'ro',X,reg_qua.predict(X_poly),'b-')"
      ],
      "metadata": {
        "id": "Rpd1_azAAAdd",
        "outputId": "0e85260e-4a43-4e01-e92c-dcb2138c2ff4",
        "colab": {
          "base_uri": "https://localhost:8080/",
          "height": 393
        }
      },
      "execution_count": 69,
      "outputs": [
        {
          "output_type": "execute_result",
          "data": {
            "text/plain": [
              "[<matplotlib.lines.Line2D at 0x7f3728616090>,\n",
              " <matplotlib.lines.Line2D at 0x7f3728609190>]"
            ]
          },
          "metadata": {},
          "execution_count": 69
        },
        {
          "output_type": "display_data",
          "data": {
            "text/plain": [
              "<Figure size 576x396 with 1 Axes>"
            ],
            "image/png": "[encoded data removed]"
          },
          "metadata": {}
        }
      ]
    },
    {
      "cell_type": "markdown",
      "metadata": {
        "id": "sR5r_SrWK_W0"
      },
      "source": [
        "## 4) Conclusão"
      ]
    },
    {
      "cell_type": "markdown",
      "source": [
        "Aqui vemos que aparentemente o polinômio de quarto grau representa melhor o salário conforme o tempo de experiência.\n",
        "\n",
        "Vemos que pela quantidade de amostras ser baixo, o maior polinômio que poderiamos ter é o polinômio interpolador, fator nos limita.\n",
        "\n",
        "Esse é um caso qeu talvez uma das decisões que precisariámos ter é dizer: \"Precisamos de mais dados para fazer um bom modelo\""
      ],
      "metadata": {
        "id": "sgd3TmjgAFod"
      }
    }
  ]
}