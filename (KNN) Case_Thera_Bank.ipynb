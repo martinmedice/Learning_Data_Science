{
  "nbformat": 4,
  "nbformat_minor": 0,
  "metadata": {
    "colab": {
      "provenance": [],
      "authorship_tag": "ABX9TyNHKPIszyzMStwn7Apne6MP",
      "include_colab_link": true
    },
    "kernelspec": {
      "name": "python3",
      "display_name": "Python 3"
    },
    "language_info": {
      "name": "python"
    }
  },
  "cells": [
    {
      "cell_type": "markdown",
      "metadata": {
        "id": "view-in-github",
        "colab_type": "text"
      },
      "source": [
        "<a href=\"https://colab.research.google.com/github/martinmedice/Learning_Data_Science/blob/main/(KNN)%20Case_Thera_Bank.ipynb\" target=\"_parent\"><img src=\"https://colab.research.google.com/assets/colab-badge.svg\" alt=\"Open In Colab\"/></a>"
      ]
    },
    {
      "cell_type": "markdown",
      "source": [
        "# Explicação do Case\n"
      ],
      "metadata": {
        "id": "2nSEwiXHKzym"
      }
    },
    {
      "cell_type": "markdown",
      "source": [
        "**Encontrar os melhores potenciais\n",
        "clientes.** \n",
        "\n",
        "---\n",
        "O banco Thera Bank possui uma base de clientes crescente. A maioria\n",
        "desses clientes são passivos (depositantes) com depósitos de tamanhos\n",
        "variados. O número de clientes que também são devedores (clientes de\n",
        "ativos) é bastante pequeno, e o banco está interessado em expandir essa\n",
        "base rapidamente para trazer mais negócios de crédito e, no processo,\n",
        "ganhar mais com os juros dos empréstimos. Em particular, a administração\n",
        "deseja explorar maneiras de converter seus clientes passivos em clientes de\n",
        "empréstimos pessoais (enquanto os mantém como depositantes). Uma\n",
        "campanha que o banco realizou no ano passado para clientes passivos\n",
        "mostrou uma taxa de conversão saudável de mais de 9% de sucesso. Isso\n",
        "encorajou o departamento de marketing de varejo a elaborar campanhas\n",
        "para melhor direcionar o marketing, a fim de aumentar a taxa de sucesso\n",
        "com um orçamento mínimo.\n",
        "O departamento quer construir um modelo de classificação que os\n",
        "ajude a identificar os clientes potenciais com maior probabilidade de\n",
        "adquirir o empréstimo. Isso aumentará a taxa de sucesso e, ao mesmo\n",
        "tempo, reduzirá o custo da campanha.\n",
        "A base de dados histórica contém informações pessoais dos clientes e\n",
        "informações sobre produtos contratados. O arquivo também contém um\n",
        "dicionário das variáveis.\n",
        "\n",
        "---\n",
        "\n",
        "Arquivo: [Bank_Personal_Loan_Modelling.xlsx](https://docs.google.com/spreadsheets/d/1XLC7jSBG7ElYSNDaHCEZ2V6YfZhWY5rH/edit#gid=640685944)\n"
      ],
      "metadata": {
        "id": "qZ2boD5bKQ2n"
      }
    },
    {
      "cell_type": "markdown",
      "source": [
        "Modele o problema de classificação utilizando o algoritmo KNN Classifier.\n",
        "Para isso:\n",
        "1. Faça uma breve análise exploratória sobre a base de dados.\n",
        "2. Divida a base de dados em treino/teste.\n",
        "3. Configure o classificador KNN utilizando a biblioteca SciKit learn.\n",
        "4. Encontre o melhor K que forneça a melhor acurácia.\n",
        "\n",
        "Dicas: Teste normalização das variáveis numéricas."
      ],
      "metadata": {
        "id": "U8J5UwIoKuXW"
      }
    },
    {
      "cell_type": "markdown",
      "source": [
        "# Import da base e bibliotecas"
      ],
      "metadata": {
        "id": "3X9nmdugMSvr"
      }
    },
    {
      "cell_type": "code",
      "execution_count": 4,
      "metadata": {
        "colab": {
          "base_uri": "https://localhost:8080/"
        },
        "id": "hXeTlbWJKOSi",
        "outputId": "4aeb3ad4-7321-457a-f7a4-e2ad0b3f04d7"
      },
      "outputs": [
        {
          "output_type": "stream",
          "name": "stdout",
          "text": [
            "Mounted at /content/drive\n"
          ]
        }
      ],
      "source": [
        "from google.colab import drive\n",
        "drive.mount('/content/drive')"
      ]
    },
    {
      "cell_type": "code",
      "source": [
        "import pandas as pd\n",
        "import numpy as np "
      ],
      "metadata": {
        "id": "bgcNxY_VNXP_"
      },
      "execution_count": 5,
      "outputs": []
    },
    {
      "cell_type": "code",
      "source": [
        "df= pd.read_excel(\"/content/drive/MyDrive/DEX - Martin Medice/Machine Learning/Modelos Supervisionados/Modelos de Classificação/KNN/Case Thera Bank/Bank_Personal_Loan_Modelling.xlsx\", sheet_name='Data')"
      ],
      "metadata": {
        "id": "QZsmYAe8PvAU"
      },
      "execution_count": 7,
      "outputs": []
    },
    {
      "cell_type": "code",
      "source": [
        "df"
      ],
      "metadata": {
        "colab": {
          "base_uri": "https://localhost:8080/",
          "height": 424
        },
        "id": "w7AoCp6TQVG1",
        "outputId": "a84b648d-c3e4-4b3d-992a-3888103f1703"
      },
      "execution_count": 8,
      "outputs": [
        {
          "output_type": "execute_result",
          "data": {
            "text/plain": [
              "        ID  Age  Experience  Income  ZIP Code  Family  CCAvg  Education  \\\n",
              "0        1   25           1      49     91107       4    1.6          1   \n",
              "1        2   45          19      34     90089       3    1.5          1   \n",
              "2        3   39          15      11     94720       1    1.0          1   \n",
              "3        4   35           9     100     94112       1    2.7          2   \n",
              "4        5   35           8      45     91330       4    1.0          2   \n",
              "...    ...  ...         ...     ...       ...     ...    ...        ...   \n",
              "4995  4996   29           3      40     92697       1    1.9          3   \n",
              "4996  4997   30           4      15     92037       4    0.4          1   \n",
              "4997  4998   63          39      24     93023       2    0.3          3   \n",
              "4998  4999   65          40      49     90034       3    0.5          2   \n",
              "4999  5000   28           4      83     92612       3    0.8          1   \n",
              "\n",
              "      Mortgage  Personal Loan  Securities Account  CD Account  Online  \\\n",
              "0            0              0                   1           0       0   \n",
              "1            0              0                   1           0       0   \n",
              "2            0              0                   0           0       0   \n",
              "3            0              0                   0           0       0   \n",
              "4            0              0                   0           0       0   \n",
              "...        ...            ...                 ...         ...     ...   \n",
              "4995         0              0                   0           0       1   \n",
              "4996        85              0                   0           0       1   \n",
              "4997         0              0                   0           0       0   \n",
              "4998         0              0                   0           0       1   \n",
              "4999         0              0                   0           0       1   \n",
              "\n",
              "      CreditCard  \n",
              "0              0  \n",
              "1              0  \n",
              "2              0  \n",
              "3              0  \n",
              "4              1  \n",
              "...          ...  \n",
              "4995           0  \n",
              "4996           0  \n",
              "4997           0  \n",
              "4998           0  \n",
              "4999           1  \n",
              "\n",
              "[5000 rows x 14 columns]"
            ],
            "text/html": [
              "\n",
              "  <div id=\"df-3515e11e-cd42-40a7-b15d-2bdc787af139\">\n",
              "    <div class=\"colab-df-container\">\n",
              "      <div>\n",
              "<style scoped>\n",
              "    .dataframe tbody tr th:only-of-type {\n",
              "        vertical-align: middle;\n",
              "    }\n",
              "\n",
              "    .dataframe tbody tr th {\n",
              "        vertical-align: top;\n",
              "    }\n",
              "\n",
              "    .dataframe thead th {\n",
              "        text-align: right;\n",
              "    }\n",
              "</style>\n",
              "<table border=\"1\" class=\"dataframe\">\n",
              "  <thead>\n",
              "    <tr style=\"text-align: right;\">\n",
              "      <th></th>\n",
              "      <th>ID</th>\n",
              "      <th>Age</th>\n",
              "      <th>Experience</th>\n",
              "      <th>Income</th>\n",
              "      <th>ZIP Code</th>\n",
              "      <th>Family</th>\n",
              "      <th>CCAvg</th>\n",
              "      <th>Education</th>\n",
              "      <th>Mortgage</th>\n",
              "      <th>Personal Loan</th>\n",
              "      <th>Securities Account</th>\n",
              "      <th>CD Account</th>\n",
              "      <th>Online</th>\n",
              "      <th>CreditCard</th>\n",
              "    </tr>\n",
              "  </thead>\n",
              "  <tbody>\n",
              "    <tr>\n",
              "      <th>0</th>\n",
              "      <td>1</td>\n",
              "      <td>25</td>\n",
              "      <td>1</td>\n",
              "      <td>49</td>\n",
              "      <td>91107</td>\n",
              "      <td>4</td>\n",
              "      <td>1.6</td>\n",
              "      <td>1</td>\n",
              "      <td>0</td>\n",
              "      <td>0</td>\n",
              "      <td>1</td>\n",
              "      <td>0</td>\n",
              "      <td>0</td>\n",
              "      <td>0</td>\n",
              "    </tr>\n",
              "    <tr>\n",
              "      <th>1</th>\n",
              "      <td>2</td>\n",
              "      <td>45</td>\n",
              "      <td>19</td>\n",
              "      <td>34</td>\n",
              "      <td>90089</td>\n",
              "      <td>3</td>\n",
              "      <td>1.5</td>\n",
              "      <td>1</td>\n",
              "      <td>0</td>\n",
              "      <td>0</td>\n",
              "      <td>1</td>\n",
              "      <td>0</td>\n",
              "      <td>0</td>\n",
              "      <td>0</td>\n",
              "    </tr>\n",
              "    <tr>\n",
              "      <th>2</th>\n",
              "      <td>3</td>\n",
              "      <td>39</td>\n",
              "      <td>15</td>\n",
              "      <td>11</td>\n",
              "      <td>94720</td>\n",
              "      <td>1</td>\n",
              "      <td>1.0</td>\n",
              "      <td>1</td>\n",
              "      <td>0</td>\n",
              "      <td>0</td>\n",
              "      <td>0</td>\n",
              "      <td>0</td>\n",
              "      <td>0</td>\n",
              "      <td>0</td>\n",
              "    </tr>\n",
              "    <tr>\n",
              "      <th>3</th>\n",
              "      <td>4</td>\n",
              "      <td>35</td>\n",
              "      <td>9</td>\n",
              "      <td>100</td>\n",
              "      <td>94112</td>\n",
              "      <td>1</td>\n",
              "      <td>2.7</td>\n",
              "      <td>2</td>\n",
              "      <td>0</td>\n",
              "      <td>0</td>\n",
              "      <td>0</td>\n",
              "      <td>0</td>\n",
              "      <td>0</td>\n",
              "      <td>0</td>\n",
              "    </tr>\n",
              "    <tr>\n",
              "      <th>4</th>\n",
              "      <td>5</td>\n",
              "      <td>35</td>\n",
              "      <td>8</td>\n",
              "      <td>45</td>\n",
              "      <td>91330</td>\n",
              "      <td>4</td>\n",
              "      <td>1.0</td>\n",
              "      <td>2</td>\n",
              "      <td>0</td>\n",
              "      <td>0</td>\n",
              "      <td>0</td>\n",
              "      <td>0</td>\n",
              "      <td>0</td>\n",
              "      <td>1</td>\n",
              "    </tr>\n",
              "    <tr>\n",
              "      <th>...</th>\n",
              "      <td>...</td>\n",
              "      <td>...</td>\n",
              "      <td>...</td>\n",
              "      <td>...</td>\n",
              "      <td>...</td>\n",
              "      <td>...</td>\n",
              "      <td>...</td>\n",
              "      <td>...</td>\n",
              "      <td>...</td>\n",
              "      <td>...</td>\n",
              "      <td>...</td>\n",
              "      <td>...</td>\n",
              "      <td>...</td>\n",
              "      <td>...</td>\n",
              "    </tr>\n",
              "    <tr>\n",
              "      <th>4995</th>\n",
              "      <td>4996</td>\n",
              "      <td>29</td>\n",
              "      <td>3</td>\n",
              "      <td>40</td>\n",
              "      <td>92697</td>\n",
              "      <td>1</td>\n",
              "      <td>1.9</td>\n",
              "      <td>3</td>\n",
              "      <td>0</td>\n",
              "      <td>0</td>\n",
              "      <td>0</td>\n",
              "      <td>0</td>\n",
              "      <td>1</td>\n",
              "      <td>0</td>\n",
              "    </tr>\n",
              "    <tr>\n",
              "      <th>4996</th>\n",
              "      <td>4997</td>\n",
              "      <td>30</td>\n",
              "      <td>4</td>\n",
              "      <td>15</td>\n",
              "      <td>92037</td>\n",
              "      <td>4</td>\n",
              "      <td>0.4</td>\n",
              "      <td>1</td>\n",
              "      <td>85</td>\n",
              "      <td>0</td>\n",
              "      <td>0</td>\n",
              "      <td>0</td>\n",
              "      <td>1</td>\n",
              "      <td>0</td>\n",
              "    </tr>\n",
              "    <tr>\n",
              "      <th>4997</th>\n",
              "      <td>4998</td>\n",
              "      <td>63</td>\n",
              "      <td>39</td>\n",
              "      <td>24</td>\n",
              "      <td>93023</td>\n",
              "      <td>2</td>\n",
              "      <td>0.3</td>\n",
              "      <td>3</td>\n",
              "      <td>0</td>\n",
              "      <td>0</td>\n",
              "      <td>0</td>\n",
              "      <td>0</td>\n",
              "      <td>0</td>\n",
              "      <td>0</td>\n",
              "    </tr>\n",
              "    <tr>\n",
              "      <th>4998</th>\n",
              "      <td>4999</td>\n",
              "      <td>65</td>\n",
              "      <td>40</td>\n",
              "      <td>49</td>\n",
              "      <td>90034</td>\n",
              "      <td>3</td>\n",
              "      <td>0.5</td>\n",
              "      <td>2</td>\n",
              "      <td>0</td>\n",
              "      <td>0</td>\n",
              "      <td>0</td>\n",
              "      <td>0</td>\n",
              "      <td>1</td>\n",
              "      <td>0</td>\n",
              "    </tr>\n",
              "    <tr>\n",
              "      <th>4999</th>\n",
              "      <td>5000</td>\n",
              "      <td>28</td>\n",
              "      <td>4</td>\n",
              "      <td>83</td>\n",
              "      <td>92612</td>\n",
              "      <td>3</td>\n",
              "      <td>0.8</td>\n",
              "      <td>1</td>\n",
              "      <td>0</td>\n",
              "      <td>0</td>\n",
              "      <td>0</td>\n",
              "      <td>0</td>\n",
              "      <td>1</td>\n",
              "      <td>1</td>\n",
              "    </tr>\n",
              "  </tbody>\n",
              "</table>\n",
              "<p>5000 rows × 14 columns</p>\n",
              "</div>\n",
              "      <button class=\"colab-df-convert\" onclick=\"convertToInteractive('df-3515e11e-cd42-40a7-b15d-2bdc787af139')\"\n",
              "              title=\"Convert this dataframe to an interactive table.\"\n",
              "              style=\"display:none;\">\n",
              "        \n",
              "  <svg xmlns=\"http://www.w3.org/2000/svg\" height=\"24px\"viewBox=\"0 0 24 24\"\n",
              "       width=\"24px\">\n",
              "    <path d=\"M0 0h24v24H0V0z\" fill=\"none\"/>\n",
              "    <path d=\"M18.56 5.44l.94 2.06.94-2.06 2.06-.94-2.06-.94-.94-2.06-.94 2.06-2.06.94zm-11 1L8.5 8.5l.94-2.06 2.06-.94-2.06-.94L8.5 2.5l-.94 2.06-2.06.94zm10 10l.94 2.06.94-2.06 2.06-.94-2.06-.94-.94-2.06-.94 2.06-2.06.94z\"/><path d=\"M17.41 7.96l-1.37-1.37c-.4-.4-.92-.59-1.43-.59-.52 0-1.04.2-1.43.59L10.3 9.45l-7.72 7.72c-.78.78-.78 2.05 0 2.83L4 21.41c.39.39.9.59 1.41.59.51 0 1.02-.2 1.41-.59l7.78-7.78 2.81-2.81c.8-.78.8-2.07 0-2.86zM5.41 20L4 18.59l7.72-7.72 1.47 1.35L5.41 20z\"/>\n",
              "  </svg>\n",
              "      </button>\n",
              "      \n",
              "  <style>\n",
              "    .colab-df-container {\n",
              "      display:flex;\n",
              "      flex-wrap:wrap;\n",
              "      gap: 12px;\n",
              "    }\n",
              "\n",
              "    .colab-df-convert {\n",
              "      background-color: #E8F0FE;\n",
              "      border: none;\n",
              "      border-radius: 50%;\n",
              "      cursor: pointer;\n",
              "      display: none;\n",
              "      fill: #1967D2;\n",
              "      height: 32px;\n",
              "      padding: 0 0 0 0;\n",
              "      width: 32px;\n",
              "    }\n",
              "\n",
              "    .colab-df-convert:hover {\n",
              "      background-color: #E2EBFA;\n",
              "      box-shadow: 0px 1px 2px rgba(60, 64, 67, 0.3), 0px 1px 3px 1px rgba(60, 64, 67, 0.15);\n",
              "      fill: #174EA6;\n",
              "    }\n",
              "\n",
              "    [theme=dark] .colab-df-convert {\n",
              "      background-color: #3B4455;\n",
              "      fill: #D2E3FC;\n",
              "    }\n",
              "\n",
              "    [theme=dark] .colab-df-convert:hover {\n",
              "      background-color: #434B5C;\n",
              "      box-shadow: 0px 1px 3px 1px rgba(0, 0, 0, 0.15);\n",
              "      filter: drop-shadow(0px 1px 2px rgba(0, 0, 0, 0.3));\n",
              "      fill: #FFFFFF;\n",
              "    }\n",
              "  </style>\n",
              "\n",
              "      <script>\n",
              "        const buttonEl =\n",
              "          document.querySelector('#df-3515e11e-cd42-40a7-b15d-2bdc787af139 button.colab-df-convert');\n",
              "        buttonEl.style.display =\n",
              "          google.colab.kernel.accessAllowed ? 'block' : 'none';\n",
              "\n",
              "        async function convertToInteractive(key) {\n",
              "          const element = document.querySelector('#df-3515e11e-cd42-40a7-b15d-2bdc787af139');\n",
              "          const dataTable =\n",
              "            await google.colab.kernel.invokeFunction('convertToInteractive',\n",
              "                                                     [key], {});\n",
              "          if (!dataTable) return;\n",
              "\n",
              "          const docLinkHtml = 'Like what you see? Visit the ' +\n",
              "            '<a target=\"_blank\" href=https://colab.research.google.com/notebooks/data_table.ipynb>data table notebook</a>'\n",
              "            + ' to learn more about interactive tables.';\n",
              "          element.innerHTML = '';\n",
              "          dataTable['output_type'] = 'display_data';\n",
              "          await google.colab.output.renderOutput(dataTable, element);\n",
              "          const docLink = document.createElement('div');\n",
              "          docLink.innerHTML = docLinkHtml;\n",
              "          element.appendChild(docLink);\n",
              "        }\n",
              "      </script>\n",
              "    </div>\n",
              "  </div>\n",
              "  "
            ]
          },
          "metadata": {},
          "execution_count": 8
        }
      ]
    },
    {
      "cell_type": "markdown",
      "source": [
        "# Análise exploratória dos dados"
      ],
      "metadata": {
        "id": "NyRicMBSRDOM"
      }
    },
    {
      "cell_type": "code",
      "source": [
        "# Através da análise das variáveis e do dicionário, algums informações relevantes:\n",
        "\n",
        "\n",
        "# Variáveis categóricas:\n",
        "# Personal Loan (Empréstimo Pessoal) - Este cliente aceitou o empréstimo pessoal oferecido na última campanha? Esta é a nossa variável alvo\n",
        "# Securities Account (Conta de títulos) - O cliente possui conta de títulos no banco?\n",
        "# CD Account (Conta de CD) - O cliente tem uma conta de certificado de depósito (CD) no banco?\n",
        "# Online - O cliente usa serviços de banco pela Internet?\n",
        "# Credit Card - (Cartão de crédito) - O cliente usa um cartão de crédito emitido pelo UniversalBank?\n",
        "\n",
        "# Variáveis contínuas:\n",
        "\n",
        "# Age (Idade) Idade do cliente\n",
        "# Experience (Experiência) - anos de experiência\n",
        "# Income (Renda) - Renda anual em dólares\n",
        "# CCAvg (CCAvg) - gasto médio com cartão de crédito\n",
        "# Mortage (Hipoteca) - Valor da hipoteca da casa\n",
        "\n",
        "# Variáveis ​​categóricas ordinais:\n",
        "# Family (Família) - tamanho da família do cliente\n",
        "# Education (Educação) - nível de educação do cliente\n",
        "\n",
        "\n",
        "# A variável ID não adiciona nenhuma informação interessante. \n",
        "# Não há associação entre o ID de cliente de uma pessoa e o empréstimo, também não fornece nenhuma conclusão geral para futuros clientes de empréstimo em potencial. \n",
        "# Podemos desconsiderar essas informações para o modelo.\n",
        "# Zip code também pode ser descosiderada, uma vez que a informação de distnância entre zip code pode não ser realidade"
      ],
      "metadata": {
        "id": "NBp34u7PQ6Hr"
      },
      "execution_count": null,
      "outputs": []
    },
    {
      "cell_type": "code",
      "source": [
        "df.drop(columns=['ID','ZIP Code'],inplace=True)"
      ],
      "metadata": {
        "id": "kTpY4XtXRhdk"
      },
      "execution_count": 9,
      "outputs": []
    },
    {
      "cell_type": "code",
      "source": [
        "df.info()"
      ],
      "metadata": {
        "colab": {
          "base_uri": "https://localhost:8080/"
        },
        "id": "7fOXKEMoRx6w",
        "outputId": "963b7675-54a9-4657-dc88-ce03a2232a73"
      },
      "execution_count": 12,
      "outputs": [
        {
          "output_type": "stream",
          "name": "stdout",
          "text": [
            "<class 'pandas.core.frame.DataFrame'>\n",
            "RangeIndex: 5000 entries, 0 to 4999\n",
            "Data columns (total 12 columns):\n",
            " #   Column              Non-Null Count  Dtype  \n",
            "---  ------              --------------  -----  \n",
            " 0   Age                 5000 non-null   int64  \n",
            " 1   Experience          5000 non-null   int64  \n",
            " 2   Income              5000 non-null   int64  \n",
            " 3   Family              5000 non-null   int64  \n",
            " 4   CCAvg               5000 non-null   float64\n",
            " 5   Education           5000 non-null   int64  \n",
            " 6   Mortgage            5000 non-null   int64  \n",
            " 7   Personal Loan       5000 non-null   int64  \n",
            " 8   Securities Account  5000 non-null   int64  \n",
            " 9   CD Account          5000 non-null   int64  \n",
            " 10  Online              5000 non-null   int64  \n",
            " 11  CreditCard          5000 non-null   int64  \n",
            "dtypes: float64(1), int64(11)\n",
            "memory usage: 468.9 KB\n"
          ]
        }
      ]
    },
    {
      "cell_type": "markdown",
      "source": [
        "Não há valores nulos no DataFrame"
      ],
      "metadata": {
        "id": "W0EUu9_aR27E"
      }
    },
    {
      "cell_type": "code",
      "source": [
        "df.describe().transpose()"
      ],
      "metadata": {
        "colab": {
          "base_uri": "https://localhost:8080/",
          "height": 426
        },
        "id": "snngZzu-Rqcx",
        "outputId": "1f577482-f8d9-4cb8-bc87-f1bbb1b4a41a"
      },
      "execution_count": 11,
      "outputs": [
        {
          "output_type": "execute_result",
          "data": {
            "text/plain": [
              "                     count       mean         std   min   25%   50%    75%  \\\n",
              "Age                 5000.0  45.338400   11.463166  23.0  35.0  45.0   55.0   \n",
              "Experience          5000.0  20.104600   11.467954  -3.0  10.0  20.0   30.0   \n",
              "Income              5000.0  73.774200   46.033729   8.0  39.0  64.0   98.0   \n",
              "Family              5000.0   2.396400    1.147663   1.0   1.0   2.0    3.0   \n",
              "CCAvg               5000.0   1.937913    1.747666   0.0   0.7   1.5    2.5   \n",
              "Education           5000.0   1.881000    0.839869   1.0   1.0   2.0    3.0   \n",
              "Mortgage            5000.0  56.498800  101.713802   0.0   0.0   0.0  101.0   \n",
              "Personal Loan       5000.0   0.096000    0.294621   0.0   0.0   0.0    0.0   \n",
              "Securities Account  5000.0   0.104400    0.305809   0.0   0.0   0.0    0.0   \n",
              "CD Account          5000.0   0.060400    0.238250   0.0   0.0   0.0    0.0   \n",
              "Online              5000.0   0.596800    0.490589   0.0   0.0   1.0    1.0   \n",
              "CreditCard          5000.0   0.294000    0.455637   0.0   0.0   0.0    1.0   \n",
              "\n",
              "                      max  \n",
              "Age                  67.0  \n",
              "Experience           43.0  \n",
              "Income              224.0  \n",
              "Family                4.0  \n",
              "CCAvg                10.0  \n",
              "Education             3.0  \n",
              "Mortgage            635.0  \n",
              "Personal Loan         1.0  \n",
              "Securities Account    1.0  \n",
              "CD Account            1.0  \n",
              "Online                1.0  \n",
              "CreditCard            1.0  "
            ],
            "text/html": [
              "\n",
              "  <div id=\"df-aeec4eb5-d7df-46fd-8cd9-6bd3126f696c\">\n",
              "    <div class=\"colab-df-container\">\n",
              "      <div>\n",
              "<style scoped>\n",
              "    .dataframe tbody tr th:only-of-type {\n",
              "        vertical-align: middle;\n",
              "    }\n",
              "\n",
              "    .dataframe tbody tr th {\n",
              "        vertical-align: top;\n",
              "    }\n",
              "\n",
              "    .dataframe thead th {\n",
              "        text-align: right;\n",
              "    }\n",
              "</style>\n",
              "<table border=\"1\" class=\"dataframe\">\n",
              "  <thead>\n",
              "    <tr style=\"text-align: right;\">\n",
              "      <th></th>\n",
              "      <th>count</th>\n",
              "      <th>mean</th>\n",
              "      <th>std</th>\n",
              "      <th>min</th>\n",
              "      <th>25%</th>\n",
              "      <th>50%</th>\n",
              "      <th>75%</th>\n",
              "      <th>max</th>\n",
              "    </tr>\n",
              "  </thead>\n",
              "  <tbody>\n",
              "    <tr>\n",
              "      <th>Age</th>\n",
              "      <td>5000.0</td>\n",
              "      <td>45.338400</td>\n",
              "      <td>11.463166</td>\n",
              "      <td>23.0</td>\n",
              "      <td>35.0</td>\n",
              "      <td>45.0</td>\n",
              "      <td>55.0</td>\n",
              "      <td>67.0</td>\n",
              "    </tr>\n",
              "    <tr>\n",
              "      <th>Experience</th>\n",
              "      <td>5000.0</td>\n",
              "      <td>20.104600</td>\n",
              "      <td>11.467954</td>\n",
              "      <td>-3.0</td>\n",
              "      <td>10.0</td>\n",
              "      <td>20.0</td>\n",
              "      <td>30.0</td>\n",
              "      <td>43.0</td>\n",
              "    </tr>\n",
              "    <tr>\n",
              "      <th>Income</th>\n",
              "      <td>5000.0</td>\n",
              "      <td>73.774200</td>\n",
              "      <td>46.033729</td>\n",
              "      <td>8.0</td>\n",
              "      <td>39.0</td>\n",
              "      <td>64.0</td>\n",
              "      <td>98.0</td>\n",
              "      <td>224.0</td>\n",
              "    </tr>\n",
              "    <tr>\n",
              "      <th>Family</th>\n",
              "      <td>5000.0</td>\n",
              "      <td>2.396400</td>\n",
              "      <td>1.147663</td>\n",
              "      <td>1.0</td>\n",
              "      <td>1.0</td>\n",
              "      <td>2.0</td>\n",
              "      <td>3.0</td>\n",
              "      <td>4.0</td>\n",
              "    </tr>\n",
              "    <tr>\n",
              "      <th>CCAvg</th>\n",
              "      <td>5000.0</td>\n",
              "      <td>1.937913</td>\n",
              "      <td>1.747666</td>\n",
              "      <td>0.0</td>\n",
              "      <td>0.7</td>\n",
              "      <td>1.5</td>\n",
              "      <td>2.5</td>\n",
              "      <td>10.0</td>\n",
              "    </tr>\n",
              "    <tr>\n",
              "      <th>Education</th>\n",
              "      <td>5000.0</td>\n",
              "      <td>1.881000</td>\n",
              "      <td>0.839869</td>\n",
              "      <td>1.0</td>\n",
              "      <td>1.0</td>\n",
              "      <td>2.0</td>\n",
              "      <td>3.0</td>\n",
              "      <td>3.0</td>\n",
              "    </tr>\n",
              "    <tr>\n",
              "      <th>Mortgage</th>\n",
              "      <td>5000.0</td>\n",
              "      <td>56.498800</td>\n",
              "      <td>101.713802</td>\n",
              "      <td>0.0</td>\n",
              "      <td>0.0</td>\n",
              "      <td>0.0</td>\n",
              "      <td>101.0</td>\n",
              "      <td>635.0</td>\n",
              "    </tr>\n",
              "    <tr>\n",
              "      <th>Personal Loan</th>\n",
              "      <td>5000.0</td>\n",
              "      <td>0.096000</td>\n",
              "      <td>0.294621</td>\n",
              "      <td>0.0</td>\n",
              "      <td>0.0</td>\n",
              "      <td>0.0</td>\n",
              "      <td>0.0</td>\n",
              "      <td>1.0</td>\n",
              "    </tr>\n",
              "    <tr>\n",
              "      <th>Securities Account</th>\n",
              "      <td>5000.0</td>\n",
              "      <td>0.104400</td>\n",
              "      <td>0.305809</td>\n",
              "      <td>0.0</td>\n",
              "      <td>0.0</td>\n",
              "      <td>0.0</td>\n",
              "      <td>0.0</td>\n",
              "      <td>1.0</td>\n",
              "    </tr>\n",
              "    <tr>\n",
              "      <th>CD Account</th>\n",
              "      <td>5000.0</td>\n",
              "      <td>0.060400</td>\n",
              "      <td>0.238250</td>\n",
              "      <td>0.0</td>\n",
              "      <td>0.0</td>\n",
              "      <td>0.0</td>\n",
              "      <td>0.0</td>\n",
              "      <td>1.0</td>\n",
              "    </tr>\n",
              "    <tr>\n",
              "      <th>Online</th>\n",
              "      <td>5000.0</td>\n",
              "      <td>0.596800</td>\n",
              "      <td>0.490589</td>\n",
              "      <td>0.0</td>\n",
              "      <td>0.0</td>\n",
              "      <td>1.0</td>\n",
              "      <td>1.0</td>\n",
              "      <td>1.0</td>\n",
              "    </tr>\n",
              "    <tr>\n",
              "      <th>CreditCard</th>\n",
              "      <td>5000.0</td>\n",
              "      <td>0.294000</td>\n",
              "      <td>0.455637</td>\n",
              "      <td>0.0</td>\n",
              "      <td>0.0</td>\n",
              "      <td>0.0</td>\n",
              "      <td>1.0</td>\n",
              "      <td>1.0</td>\n",
              "    </tr>\n",
              "  </tbody>\n",
              "</table>\n",
              "</div>\n",
              "      <button class=\"colab-df-convert\" onclick=\"convertToInteractive('df-aeec4eb5-d7df-46fd-8cd9-6bd3126f696c')\"\n",
              "              title=\"Convert this dataframe to an interactive table.\"\n",
              "              style=\"display:none;\">\n",
              "        \n",
              "  <svg xmlns=\"http://www.w3.org/2000/svg\" height=\"24px\"viewBox=\"0 0 24 24\"\n",
              "       width=\"24px\">\n",
              "    <path d=\"M0 0h24v24H0V0z\" fill=\"none\"/>\n",
              "    <path d=\"M18.56 5.44l.94 2.06.94-2.06 2.06-.94-2.06-.94-.94-2.06-.94 2.06-2.06.94zm-11 1L8.5 8.5l.94-2.06 2.06-.94-2.06-.94L8.5 2.5l-.94 2.06-2.06.94zm10 10l.94 2.06.94-2.06 2.06-.94-2.06-.94-.94-2.06-.94 2.06-2.06.94z\"/><path d=\"M17.41 7.96l-1.37-1.37c-.4-.4-.92-.59-1.43-.59-.52 0-1.04.2-1.43.59L10.3 9.45l-7.72 7.72c-.78.78-.78 2.05 0 2.83L4 21.41c.39.39.9.59 1.41.59.51 0 1.02-.2 1.41-.59l7.78-7.78 2.81-2.81c.8-.78.8-2.07 0-2.86zM5.41 20L4 18.59l7.72-7.72 1.47 1.35L5.41 20z\"/>\n",
              "  </svg>\n",
              "      </button>\n",
              "      \n",
              "  <style>\n",
              "    .colab-df-container {\n",
              "      display:flex;\n",
              "      flex-wrap:wrap;\n",
              "      gap: 12px;\n",
              "    }\n",
              "\n",
              "    .colab-df-convert {\n",
              "      background-color: #E8F0FE;\n",
              "      border: none;\n",
              "      border-radius: 50%;\n",
              "      cursor: pointer;\n",
              "      display: none;\n",
              "      fill: #1967D2;\n",
              "      height: 32px;\n",
              "      padding: 0 0 0 0;\n",
              "      width: 32px;\n",
              "    }\n",
              "\n",
              "    .colab-df-convert:hover {\n",
              "      background-color: #E2EBFA;\n",
              "      box-shadow: 0px 1px 2px rgba(60, 64, 67, 0.3), 0px 1px 3px 1px rgba(60, 64, 67, 0.15);\n",
              "      fill: #174EA6;\n",
              "    }\n",
              "\n",
              "    [theme=dark] .colab-df-convert {\n",
              "      background-color: #3B4455;\n",
              "      fill: #D2E3FC;\n",
              "    }\n",
              "\n",
              "    [theme=dark] .colab-df-convert:hover {\n",
              "      background-color: #434B5C;\n",
              "      box-shadow: 0px 1px 3px 1px rgba(0, 0, 0, 0.15);\n",
              "      filter: drop-shadow(0px 1px 2px rgba(0, 0, 0, 0.3));\n",
              "      fill: #FFFFFF;\n",
              "    }\n",
              "  </style>\n",
              "\n",
              "      <script>\n",
              "        const buttonEl =\n",
              "          document.querySelector('#df-aeec4eb5-d7df-46fd-8cd9-6bd3126f696c button.colab-df-convert');\n",
              "        buttonEl.style.display =\n",
              "          google.colab.kernel.accessAllowed ? 'block' : 'none';\n",
              "\n",
              "        async function convertToInteractive(key) {\n",
              "          const element = document.querySelector('#df-aeec4eb5-d7df-46fd-8cd9-6bd3126f696c');\n",
              "          const dataTable =\n",
              "            await google.colab.kernel.invokeFunction('convertToInteractive',\n",
              "                                                     [key], {});\n",
              "          if (!dataTable) return;\n",
              "\n",
              "          const docLinkHtml = 'Like what you see? Visit the ' +\n",
              "            '<a target=\"_blank\" href=https://colab.research.google.com/notebooks/data_table.ipynb>data table notebook</a>'\n",
              "            + ' to learn more about interactive tables.';\n",
              "          element.innerHTML = '';\n",
              "          dataTable['output_type'] = 'display_data';\n",
              "          await google.colab.output.renderOutput(dataTable, element);\n",
              "          const docLink = document.createElement('div');\n",
              "          docLink.innerHTML = docLinkHtml;\n",
              "          element.appendChild(docLink);\n",
              "        }\n",
              "      </script>\n",
              "    </div>\n",
              "  </div>\n",
              "  "
            ]
          },
          "metadata": {},
          "execution_count": 11
        }
      ]
    },
    {
      "cell_type": "code",
      "source": [
        "# Analisando a distribuição de 'Personal Loan'\n",
        "df['Personal Loan'].value_counts()"
      ],
      "metadata": {
        "colab": {
          "base_uri": "https://localhost:8080/"
        },
        "id": "noCQHkbpSD6y",
        "outputId": "126d006a-37a4-4588-cb5d-cfb1878c9223"
      },
      "execution_count": 14,
      "outputs": [
        {
          "output_type": "execute_result",
          "data": {
            "text/plain": [
              "0    4520\n",
              "1     480\n",
              "Name: Personal Loan, dtype: int64"
            ]
          },
          "metadata": {},
          "execution_count": 14
        }
      ]
    },
    {
      "cell_type": "markdown",
      "source": [
        "**A BASE É DESBALANCEADA, PORÉM POR ENQUANTO NÃO IREMOS REALIZAR NENHUMA ALTERAÇÃO**"
      ],
      "metadata": {
        "id": "DJDxri_FSfw9"
      }
    },
    {
      "cell_type": "code",
      "source": [
        "#Definindo variáveis preditoras e resposta\n",
        "X = df.drop(columns=['Personal Loan'])\n",
        "Y = df['Personal Loan']"
      ],
      "metadata": {
        "id": "sDXE2B9HStI9"
      },
      "execution_count": 15,
      "outputs": []
    },
    {
      "cell_type": "markdown",
      "source": [
        "# Dividindo bases entre treino e teste"
      ],
      "metadata": {
        "id": "QbRKaKIXS6qb"
      }
    },
    {
      "cell_type": "code",
      "source": [
        "from sklearn.model_selection import train_test_split\n",
        "X_train, X_test, y_train, y_test = train_test_split(X, Y, test_size=0.33, random_state=42)"
      ],
      "metadata": {
        "id": "7xIncXa_TCVQ"
      },
      "execution_count": 16,
      "outputs": []
    },
    {
      "cell_type": "code",
      "source": [
        "print(f\"Shape X_train: {X_train.shape}\")\n",
        "print(f\"Shape y_train: {y_train.shape}\")\n",
        "print(f\"Shape X_test: {X_test.shape}\")\n",
        "print(f\"Shape y_test: {y_test.shape}\")"
      ],
      "metadata": {
        "colab": {
          "base_uri": "https://localhost:8080/"
        },
        "id": "cu-05m2-UB7v",
        "outputId": "de14ff9b-4367-4840-a724-b851cab485ce"
      },
      "execution_count": 20,
      "outputs": [
        {
          "output_type": "stream",
          "name": "stdout",
          "text": [
            "Shape X_train: (3350, 11)\n",
            "Shape y_train: (3350,)\n",
            "Shape X_test: (1650, 11)\n",
            "Shape y_test: (1650,)\n"
          ]
        }
      ]
    },
    {
      "cell_type": "markdown",
      "source": [
        "Normalização das variáveis"
      ],
      "metadata": {
        "id": "79DwTs2fUIC2"
      }
    },
    {
      "cell_type": "code",
      "source": [
        "from sklearn.preprocessing import MinMaxScaler\n",
        "\n",
        "scaler = MinMaxScaler()\n",
        "scaler.fit(X_train)\n",
        "\n",
        "X_train_scaled = scaler.transform(X_train)\n",
        "X_test_scaled = scaler.transform(X_test)\n",
        "\n",
        "# Transformanda para dataframe para visualização\n",
        "X_train = pd.DataFrame(X_train_scaled,columns = X_train.columns)\n",
        "X_test = pd.DataFrame(X_test_scaled,columns = X_test.columns)"
      ],
      "metadata": {
        "id": "nspXia8XUJ5u"
      },
      "execution_count": 21,
      "outputs": []
    },
    {
      "cell_type": "markdown",
      "source": [
        "#Configurando o classificador KNN utilizando a biblioteca SciKit learn."
      ],
      "metadata": {
        "id": "sPtXJ6iVTZzK"
      }
    },
    {
      "cell_type": "code",
      "source": [
        "from sklearn.neighbors import KNeighborsClassifier\n",
        "k = 3\n",
        "knn = KNeighborsClassifier(n_neighbors=k)"
      ],
      "metadata": {
        "id": "4sNB_RdOTcjs"
      },
      "execution_count": 22,
      "outputs": []
    },
    {
      "cell_type": "code",
      "source": [
        "knn.fit(X_train,y_train)"
      ],
      "metadata": {
        "colab": {
          "base_uri": "https://localhost:8080/"
        },
        "id": "EDyvLv3ETs2T",
        "outputId": "32158050-850e-438b-b53b-57284349b0af"
      },
      "execution_count": 23,
      "outputs": [
        {
          "output_type": "execute_result",
          "data": {
            "text/plain": [
              "KNeighborsClassifier(n_neighbors=3)"
            ]
          },
          "metadata": {},
          "execution_count": 23
        }
      ]
    },
    {
      "cell_type": "code",
      "source": [
        "y_pred = knn.predict(X_test)"
      ],
      "metadata": {
        "id": "ag2l2jSNTxsZ"
      },
      "execution_count": 24,
      "outputs": []
    },
    {
      "cell_type": "code",
      "source": [
        "#Verificando a Acurácia do modelo inicial\n",
        "from sklearn.metrics import accuracy_score\n",
        "accuracy_score(y_test, y_pred)*100"
      ],
      "metadata": {
        "colab": {
          "base_uri": "https://localhost:8080/"
        },
        "id": "8cjK0WVXT6zk",
        "outputId": "574ab78c-4843-4686-8303-5fd3f4d4fe5e"
      },
      "execution_count": 27,
      "outputs": [
        {
          "output_type": "execute_result",
          "data": {
            "text/plain": [
              "95.63636363636364"
            ]
          },
          "metadata": {},
          "execution_count": 27
        }
      ]
    },
    {
      "cell_type": "markdown",
      "source": [
        "# Encontrando o melhor K que fornece a maior acurácia"
      ],
      "metadata": {
        "id": "VB6repDDU6NG"
      }
    },
    {
      "cell_type": "code",
      "source": [
        "acc = []\n",
        "k_neighbors = range(3,25)\n",
        "\n",
        "for k in k_neighbors:\n",
        "  knn= KNeighborsClassifier(n_neighbors=k)\n",
        "  knn.fit(X_train,y_train)\n",
        "  y_pred = knn.predict(X_test)\n",
        "  acc.append(accuracy_score(y_test, y_pred))"
      ],
      "metadata": {
        "id": "R_yv3GLUU_XY"
      },
      "execution_count": 30,
      "outputs": []
    },
    {
      "cell_type": "code",
      "source": [
        "import matplotlib.pyplot as plt\n",
        "\n",
        "plt.figure()\n",
        "x = k_neighbors\n",
        "y = acc\n",
        "plt.plot(x, y,)\n",
        "plt.xlabel('k_neighbors')\n",
        "plt.ylabel('acccuracy_score')\n",
        "plt.show()"
      ],
      "metadata": {
        "colab": {
          "base_uri": "https://localhost:8080/",
          "height": 280
        },
        "id": "VXNeaH7YVq9T",
        "outputId": "9c581b31-4f43-4904-cd79-da438e552bdb"
      },
      "execution_count": 35,
      "outputs": [
        {
          "output_type": "display_data",
          "data": {
            "text/plain": [
              "<Figure size 432x288 with 1 Axes>"
            ],
            "image/png": "[encoded data removed]"
          },
          "metadata": {
            "needs_background": "light"
          }
        }
      ]
    },
    {
      "cell_type": "markdown",
      "source": [
        "Melhor valor de K=3, com acurácia de 0.956"
      ],
      "metadata": {
        "id": "zH1fv6DuWgZH"
      }
    }
  ]
}