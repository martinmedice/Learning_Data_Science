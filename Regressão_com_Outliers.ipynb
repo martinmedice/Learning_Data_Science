{
  "nbformat": 4,
  "nbformat_minor": 0,
  "metadata": {
    "colab": {
      "provenance": [],
      "toc_visible": true,
      "include_colab_link": true
    },
    "kernelspec": {
      "name": "python3",
      "display_name": "Python 3"
    },
    "language_info": {
      "name": "python"
    }
  },
  "cells": [
    {
      "cell_type": "markdown",
      "metadata": {
        "id": "view-in-github",
        "colab_type": "text"
      },
      "source": [
        "<a href=\"https://colab.research.google.com/github/martinmedice/Learning_Data_Science/blob/main/Regress%C3%A3o_com_Outliers.ipynb\" target=\"_parent\"><img src=\"https://colab.research.google.com/assets/colab-badge.svg\" alt=\"Open In Colab\"/></a>"
      ]
    },
    {
      "cell_type": "markdown",
      "metadata": {
        "id": "A5WuZJ85Lt0k"
      },
      "source": [
        "# Outliers\n",
        "\n",
        "Uma arquiteta está começando a construir um shopping e tem alguns dados de prédios que ela construiu. \n",
        "\n",
        "Sabendo que você é expert em ciência de dados, ela te pediu para extrair alguma informação em relação a quantidade de potência do ar condicionado que ela vai precisar colocar no shopping, sabendo de informações como área de superficie, area do teto, altura e etc.\n",
        "\n",
        "Como são dados coletados a mão, você deve se atentar a **outliers** que podem aparecer nos dados. \n",
        "\n",
        "Para fazer a análise, você precisa:\n",
        "- Fazer o split 80/20 dos dados\n",
        "- Treinar um modelo linear multivariado simples\n",
        "- Calcular o R² e RMSE\n",
        "- Plotar o gráfico de valores preditos vs. valores reais\n",
        "- Plotar o gráfico dos resíduos em busca de outliers\n",
        "- Limpar os dados de acordo com seu critério de outliers\n",
        "- Treinar um modelo linear multivariado simples novamente\n",
        "- Calcular o R² e RMSE\n",
        "- Plotar o gráfico de valores preditos vs. valores reais\n",
        "- Compare os valores dos coeficientes regressivos\n",
        "- Elabore uma conclusão mostrando qual dos modelos performou melhor e porquê."
      ]
    },
    {
      "cell_type": "code",
      "metadata": {
        "id": "XM45UcaML-Av"
      },
      "source": [
        "# aqui vai as bibliotecas que você vai usar\n",
        "import numpy as np\n",
        "import pandas as pd\n",
        "import matplotlib.pyplot as plt\n",
        "import seaborn as sns\n",
        "#essa biblioteca yellowbrick faz gráficos lindos para análise de modelos e recomendo você dar uma olhada\n",
        "from yellowbrick.datasets import load_energy\n",
        "from yellowbrick.regressor import ResidualsPlot\n",
        "from sklearn.linear_model import LinearRegression\n",
        "from sklearn.model_selection import train_test_split as tts\n",
        "from sklearn.metrics import mean_squared_error"
      ],
      "execution_count": 1,
      "outputs": []
    },
    {
      "cell_type": "markdown",
      "metadata": {
        "id": "oX2TkEkNNGwB"
      },
      "source": [
        "## 1) Importação dos dados\n",
        "\n",
        "Aqui já tem os dados que você precisa!"
      ]
    },
    {
      "cell_type": "code",
      "source": [
        "dataset = load_energy(return_dataset=True)\n",
        "print(dataset.README)\n",
        "\n",
        "df = dataset.to_dataframe()\n",
        "df.head()"
      ],
      "metadata": {
        "id": "brfGNCU-0RVx",
        "outputId": "fe04e755-01d6-4913-d010-cec73e52fd8a",
        "colab": {
          "base_uri": "https://localhost:8080/",
          "height": 990
        }
      },
      "execution_count": 13,
      "outputs": [
        {
          "output_type": "stream",
          "name": "stdout",
          "text": [
            "# Energy Efficiency\n",
            "\n",
            "**Downloaded from the UCI Machine Learning Repository on March 23, 2015.**\n",
            "\n",
            "- Data Set: Multivariate\n",
            "- Integer, Real Attributes\n",
            "- 768 Instances\n",
            "- 8 Attributes\n",
            "- Well suited for _regression_ and _classification_ tasks\n",
            "- [http://archive.ics.uci.edu/ml/datasets/Energy+efficiency](http://archive.ics.uci.edu/ml/datasets/Energy+efficiency)\n",
            "\n",
            "## Abstract\n",
            "\n",
            "The dataset was created by Angeliki Xifara (angxifara '@' gmail.com, Civil/Structural Engineer) and was processed by Athanasios Tsanas (tsanasthanasis '@' gmail.com, Oxford Centre for Industrial and Applied Mathematics, University of Oxford, UK).\n",
            "\n",
            "## Description\n",
            "\n",
            "We perform energy analysis using 12 different building shapes simulated in Ecotect. The buildings differ with respect to the glazing area, the glazing area distribution, and the orientation, amongst other parameters. We simulate various settings as functions of the afore-mentioned characteristics to obtain 768 building shapes. The dataset comprises 768 samples and 8 features, aiming to predict two real valued responses. It can also be used as a multi-class classification problem if the response is rounded to the nearest integer.\n",
            "\n",
            "\n",
            "### Attributes\n",
            "\n",
            "The dataset contains eight attributes (or features, denoted by X1...X8) and two responses (or outcomes, denoted by y1 and y2). The aim is to use the eight features to predict each of the two responses.\n",
            "\n",
            "Specifically:\n",
            "\n",
            "- X1\tRelative Compactness\n",
            "- X2\tSurface Area\n",
            "- X3\tWall Area\n",
            "- X4\tRoof Area\n",
            "- X5\tOverall Height\n",
            "- X6\tOrientation\n",
            "- X7\tGlazing Area\n",
            "- X8\tGlazing Area Distribution\n",
            "- y1\tHeating Load\n",
            "- y2\tCooling Load\n",
            "\n",
            "### Citation\n",
            "\n",
            "A. Tsanas, A. Xifara: 'Accurate quantitative estimation of energy performance of residential buildings using statistical machine learning tools', Energy and Buildings, Vol. 49, pp. 560-567, 2012\n",
            "\n",
            "For further details on the data analysis methodology:\n",
            "\n",
            "A. Tsanas, 'Accurate telemonitoring of Parkinson's disease symptom severity using nonlinear speech signal processing and statistical machine learning', D.Phil. thesis, University of Oxford, 2012\n"
          ]
        },
        {
          "output_type": "execute_result",
          "data": {
            "text/plain": [
              "   relative compactness  surface area  wall area  roof area  overall height  \\\n",
              "0                  0.98         514.5      294.0     110.25             7.0   \n",
              "1                  0.98         514.5      294.0     110.25             7.0   \n",
              "2                  0.98         514.5      294.0     110.25             7.0   \n",
              "3                  0.98         514.5      294.0     110.25             7.0   \n",
              "4                  0.90         563.5      318.5     122.50             7.0   \n",
              "\n",
              "   orientation  glazing area  glazing area distribution  heating load  \\\n",
              "0            2           0.0                          0         15.55   \n",
              "1            3           0.0                          0         15.55   \n",
              "2            4           0.0                          0         15.55   \n",
              "3            5           0.0                          0         15.55   \n",
              "4            2           0.0                          0         20.84   \n",
              "\n",
              "   cooling load  \n",
              "0         21.33  \n",
              "1         21.33  \n",
              "2         21.33  \n",
              "3         21.33  \n",
              "4         28.28  "
            ],
            "text/html": [
              "\n",
              "  <div id=\"df-81efb587-27c8-4e20-a1b2-185fda5aab21\">\n",
              "    <div class=\"colab-df-container\">\n",
              "      <div>\n",
              "<style scoped>\n",
              "    .dataframe tbody tr th:only-of-type {\n",
              "        vertical-align: middle;\n",
              "    }\n",
              "\n",
              "    .dataframe tbody tr th {\n",
              "        vertical-align: top;\n",
              "    }\n",
              "\n",
              "    .dataframe thead th {\n",
              "        text-align: right;\n",
              "    }\n",
              "</style>\n",
              "<table border=\"1\" class=\"dataframe\">\n",
              "  <thead>\n",
              "    <tr style=\"text-align: right;\">\n",
              "      <th></th>\n",
              "      <th>relative compactness</th>\n",
              "      <th>surface area</th>\n",
              "      <th>wall area</th>\n",
              "      <th>roof area</th>\n",
              "      <th>overall height</th>\n",
              "      <th>orientation</th>\n",
              "      <th>glazing area</th>\n",
              "      <th>glazing area distribution</th>\n",
              "      <th>heating load</th>\n",
              "      <th>cooling load</th>\n",
              "    </tr>\n",
              "  </thead>\n",
              "  <tbody>\n",
              "    <tr>\n",
              "      <th>0</th>\n",
              "      <td>0.98</td>\n",
              "      <td>514.5</td>\n",
              "      <td>294.0</td>\n",
              "      <td>110.25</td>\n",
              "      <td>7.0</td>\n",
              "      <td>2</td>\n",
              "      <td>0.0</td>\n",
              "      <td>0</td>\n",
              "      <td>15.55</td>\n",
              "      <td>21.33</td>\n",
              "    </tr>\n",
              "    <tr>\n",
              "      <th>1</th>\n",
              "      <td>0.98</td>\n",
              "      <td>514.5</td>\n",
              "      <td>294.0</td>\n",
              "      <td>110.25</td>\n",
              "      <td>7.0</td>\n",
              "      <td>3</td>\n",
              "      <td>0.0</td>\n",
              "      <td>0</td>\n",
              "      <td>15.55</td>\n",
              "      <td>21.33</td>\n",
              "    </tr>\n",
              "    <tr>\n",
              "      <th>2</th>\n",
              "      <td>0.98</td>\n",
              "      <td>514.5</td>\n",
              "      <td>294.0</td>\n",
              "      <td>110.25</td>\n",
              "      <td>7.0</td>\n",
              "      <td>4</td>\n",
              "      <td>0.0</td>\n",
              "      <td>0</td>\n",
              "      <td>15.55</td>\n",
              "      <td>21.33</td>\n",
              "    </tr>\n",
              "    <tr>\n",
              "      <th>3</th>\n",
              "      <td>0.98</td>\n",
              "      <td>514.5</td>\n",
              "      <td>294.0</td>\n",
              "      <td>110.25</td>\n",
              "      <td>7.0</td>\n",
              "      <td>5</td>\n",
              "      <td>0.0</td>\n",
              "      <td>0</td>\n",
              "      <td>15.55</td>\n",
              "      <td>21.33</td>\n",
              "    </tr>\n",
              "    <tr>\n",
              "      <th>4</th>\n",
              "      <td>0.90</td>\n",
              "      <td>563.5</td>\n",
              "      <td>318.5</td>\n",
              "      <td>122.50</td>\n",
              "      <td>7.0</td>\n",
              "      <td>2</td>\n",
              "      <td>0.0</td>\n",
              "      <td>0</td>\n",
              "      <td>20.84</td>\n",
              "      <td>28.28</td>\n",
              "    </tr>\n",
              "  </tbody>\n",
              "</table>\n",
              "</div>\n",
              "      <button class=\"colab-df-convert\" onclick=\"convertToInteractive('df-81efb587-27c8-4e20-a1b2-185fda5aab21')\"\n",
              "              title=\"Convert this dataframe to an interactive table.\"\n",
              "              style=\"display:none;\">\n",
              "        \n",
              "  <svg xmlns=\"http://www.w3.org/2000/svg\" height=\"24px\"viewBox=\"0 0 24 24\"\n",
              "       width=\"24px\">\n",
              "    <path d=\"M0 0h24v24H0V0z\" fill=\"none\"/>\n",
              "    <path d=\"M18.56 5.44l.94 2.06.94-2.06 2.06-.94-2.06-.94-.94-2.06-.94 2.06-2.06.94zm-11 1L8.5 8.5l.94-2.06 2.06-.94-2.06-.94L8.5 2.5l-.94 2.06-2.06.94zm10 10l.94 2.06.94-2.06 2.06-.94-2.06-.94-.94-2.06-.94 2.06-2.06.94z\"/><path d=\"M17.41 7.96l-1.37-1.37c-.4-.4-.92-.59-1.43-.59-.52 0-1.04.2-1.43.59L10.3 9.45l-7.72 7.72c-.78.78-.78 2.05 0 2.83L4 21.41c.39.39.9.59 1.41.59.51 0 1.02-.2 1.41-.59l7.78-7.78 2.81-2.81c.8-.78.8-2.07 0-2.86zM5.41 20L4 18.59l7.72-7.72 1.47 1.35L5.41 20z\"/>\n",
              "  </svg>\n",
              "      </button>\n",
              "      \n",
              "  <style>\n",
              "    .colab-df-container {\n",
              "      display:flex;\n",
              "      flex-wrap:wrap;\n",
              "      gap: 12px;\n",
              "    }\n",
              "\n",
              "    .colab-df-convert {\n",
              "      background-color: #E8F0FE;\n",
              "      border: none;\n",
              "      border-radius: 50%;\n",
              "      cursor: pointer;\n",
              "      display: none;\n",
              "      fill: #1967D2;\n",
              "      height: 32px;\n",
              "      padding: 0 0 0 0;\n",
              "      width: 32px;\n",
              "    }\n",
              "\n",
              "    .colab-df-convert:hover {\n",
              "      background-color: #E2EBFA;\n",
              "      box-shadow: 0px 1px 2px rgba(60, 64, 67, 0.3), 0px 1px 3px 1px rgba(60, 64, 67, 0.15);\n",
              "      fill: #174EA6;\n",
              "    }\n",
              "\n",
              "    [theme=dark] .colab-df-convert {\n",
              "      background-color: #3B4455;\n",
              "      fill: #D2E3FC;\n",
              "    }\n",
              "\n",
              "    [theme=dark] .colab-df-convert:hover {\n",
              "      background-color: #434B5C;\n",
              "      box-shadow: 0px 1px 3px 1px rgba(0, 0, 0, 0.15);\n",
              "      filter: drop-shadow(0px 1px 2px rgba(0, 0, 0, 0.3));\n",
              "      fill: #FFFFFF;\n",
              "    }\n",
              "  </style>\n",
              "\n",
              "      <script>\n",
              "        const buttonEl =\n",
              "          document.querySelector('#df-81efb587-27c8-4e20-a1b2-185fda5aab21 button.colab-df-convert');\n",
              "        buttonEl.style.display =\n",
              "          google.colab.kernel.accessAllowed ? 'block' : 'none';\n",
              "\n",
              "        async function convertToInteractive(key) {\n",
              "          const element = document.querySelector('#df-81efb587-27c8-4e20-a1b2-185fda5aab21');\n",
              "          const dataTable =\n",
              "            await google.colab.kernel.invokeFunction('convertToInteractive',\n",
              "                                                     [key], {});\n",
              "          if (!dataTable) return;\n",
              "\n",
              "          const docLinkHtml = 'Like what you see? Visit the ' +\n",
              "            '<a target=\"_blank\" href=https://colab.research.google.com/notebooks/data_table.ipynb>data table notebook</a>'\n",
              "            + ' to learn more about interactive tables.';\n",
              "          element.innerHTML = '';\n",
              "          dataTable['output_type'] = 'display_data';\n",
              "          await google.colab.output.renderOutput(dataTable, element);\n",
              "          const docLink = document.createElement('div');\n",
              "          docLink.innerHTML = docLinkHtml;\n",
              "          element.appendChild(docLink);\n",
              "        }\n",
              "      </script>\n",
              "    </div>\n",
              "  </div>\n",
              "  "
            ]
          },
          "metadata": {},
          "execution_count": 13
        }
      ]
    },
    {
      "cell_type": "code",
      "source": [
        "X, y = load_energy()"
      ],
      "metadata": {
        "id": "dHiunDwL0dvQ"
      },
      "execution_count": 14,
      "outputs": []
    },
    {
      "cell_type": "code",
      "source": [
        "y.head()"
      ],
      "metadata": {
        "id": "ewBis8Lx0kUA",
        "outputId": "65a7bd62-f404-425e-e522-a5197edba464",
        "colab": {
          "base_uri": "https://localhost:8080/"
        }
      },
      "execution_count": 15,
      "outputs": [
        {
          "output_type": "execute_result",
          "data": {
            "text/plain": [
              "0    15.55\n",
              "1    15.55\n",
              "2    15.55\n",
              "3    15.55\n",
              "4    20.84\n",
              "Name: heating load, dtype: float64"
            ]
          },
          "metadata": {},
          "execution_count": 15
        }
      ]
    },
    {
      "cell_type": "markdown",
      "metadata": {
        "id": "BUPsEFJZNLNJ"
      },
      "source": [
        "## 2) Treinamento 1"
      ]
    },
    {
      "cell_type": "markdown",
      "metadata": {
        "id": "ajF6L093zZ4Y"
      },
      "source": [
        "### 2.1) Split dos dados e treinamento do modelo"
      ]
    },
    {
      "cell_type": "markdown",
      "metadata": {
        "id": "Fd0o7POLNWbg"
      },
      "source": [
        "### 2.2) R² e RMSE"
      ]
    },
    {
      "cell_type": "markdown",
      "metadata": {
        "id": "mRFic3JnNjBm"
      },
      "source": [
        "### 2.3) Gráfico dos resíduos"
      ]
    },
    {
      "cell_type": "markdown",
      "metadata": {
        "id": "fIttg2pGNnl5"
      },
      "source": [
        "### 2.4) Gráfico com x=valores preditos e y=valores reais"
      ]
    },
    {
      "cell_type": "markdown",
      "metadata": {
        "id": "R1utqnbGaW6E"
      },
      "source": [
        "## 3) Estabelecer critério para outliers e limpeza dos outliers\n"
      ]
    },
    {
      "cell_type": "markdown",
      "metadata": {
        "id": "EJH6H6651ogc"
      },
      "source": [
        "##4) Treinamento 2"
      ]
    },
    {
      "cell_type": "markdown",
      "metadata": {
        "id": "Gj6mnneVObPL"
      },
      "source": [
        "### 4.1) Split dos dados e treinamento do modelo"
      ]
    },
    {
      "cell_type": "markdown",
      "metadata": {
        "id": "sertDVyzOhmv"
      },
      "source": [
        "### 4.2) R² e RMSE"
      ]
    },
    {
      "cell_type": "markdown",
      "metadata": {
        "id": "ifCElagxOjJp"
      },
      "source": [
        "### 4.3) Gráfico dos resíduos"
      ]
    },
    {
      "cell_type": "markdown",
      "metadata": {
        "id": "hMdy-gRIOn0G"
      },
      "source": [
        "### 4.4)Gráfico com x=valores preditos e y=valores reais"
      ]
    },
    {
      "cell_type": "markdown",
      "metadata": {
        "id": "dvKaQ2Sw1-Ea"
      },
      "source": [
        "## 5) Comparação entre modelos"
      ]
    },
    {
      "cell_type": "markdown",
      "metadata": {
        "id": "grFtj7aAOsVs"
      },
      "source": [
        "### 5.1) Valor dos coeficientes da regressão com outliers"
      ]
    },
    {
      "cell_type": "markdown",
      "metadata": {
        "id": "rviq1hS2OwVm"
      },
      "source": [
        "### 5.2) Valor dos coeficientes da regressão sem outliers"
      ]
    },
    {
      "cell_type": "markdown",
      "metadata": {
        "id": "C6XGB8-gO1Wa"
      },
      "source": [
        "## 6) Conclusão"
      ]
    }
  ]
}